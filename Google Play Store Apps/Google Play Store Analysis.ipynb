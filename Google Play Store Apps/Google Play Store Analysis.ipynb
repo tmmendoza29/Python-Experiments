{
 "cells": [
  {
   "cell_type": "markdown",
   "id": "5c4dbda2-2a59-4411-babd-f5f6b82e918e",
   "metadata": {},
   "source": [
    "# Google Play Store Applications\n",
    " Web Scraped data of nearly 11K Play Store apps for analyzing the Android market\n",
    " \n",
    " Source: <https://www.kaggle.com/datasets/bhavikjikadara/google-play-store-applications/code>"
   ]
  },
  {
   "cell_type": "markdown",
   "id": "c484e0dc-d4a2-4ee9-b957-5e60d62a28a6",
   "metadata": {},
   "source": [
    "## Content:\n",
    "There are 13 features in the dataset, and each feature indicates some details of Google application name, category, rating, reviews, size, installs, type, price, content rating genres, last updated, current version and Android version.\n",
    "\r",
    "--\n",
    "Ap--p: The application name.\r\n",
    "Category: The category the app belongs to.\r\n",
    "Rating: Overall user rating of the app.\r\n",
    "Reviews: Number of user reviews for the app.\r\n",
    "Size: The size of the app.\r\n",
    "Installs: Number of user installs for the app.\r\n",
    "Type: Either \"Paid\" or \"Free\".\r\n",
    "Price: The price of the app.\r\n",
    "Content Rating: The age group the app is targeted at - \"Children\" / \"Mature 21+\" / \"Adult\".\r\n",
    "Genres: Possibly multiple genres the app belongs to.\r\n",
    "Last Updated: The date the app was last updated.\r\n",
    "Current Ver: The current version of the app.\r\n",
    "Android Ver: The Android version is needed for this app."
   ]
  },
  {
   "cell_type": "code",
   "execution_count": null,
   "id": "d37aa917-27e6-49c3-9257-4c3ae504a980",
   "metadata": {},
   "outputs": [],
   "source": []
  }
 ],
 "metadata": {
  "kernelspec": {
   "display_name": "Python 3 (ipykernel)",
   "language": "python",
   "name": "python3"
  },
  "language_info": {
   "codemirror_mode": {
    "name": "ipython",
    "version": 3
   },
   "file_extension": ".py",
   "mimetype": "text/x-python",
   "name": "python",
   "nbconvert_exporter": "python",
   "pygments_lexer": "ipython3",
   "version": "3.11.7"
  }
 },
 "nbformat": 4,
 "nbformat_minor": 5
}
